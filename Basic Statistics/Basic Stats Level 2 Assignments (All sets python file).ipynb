{
 "cells": [
  {
   "cell_type": "markdown",
   "id": "55e54e35",
   "metadata": {},
   "source": [
    "# Set 1: Descriptive Statistics and Probability"
   ]
  },
  {
   "cell_type": "markdown",
   "id": "8436b72c",
   "metadata": {},
   "source": [
    "## Question 1"
   ]
  },
  {
   "cell_type": "code",
   "execution_count": 1,
   "id": "7d21cd26",
   "metadata": {},
   "outputs": [],
   "source": [
    "# importing libraries \n",
    "import numpy as np\n",
    "import pandas as pd\n",
    "import matplotlib.pyplot as plt\n",
    "import math"
   ]
  },
  {
   "cell_type": "code",
   "execution_count": 2,
   "id": "3257b1e5",
   "metadata": {},
   "outputs": [
    {
     "data": {
      "text/html": [
       "<div>\n",
       "<style scoped>\n",
       "    .dataframe tbody tr th:only-of-type {\n",
       "        vertical-align: middle;\n",
       "    }\n",
       "\n",
       "    .dataframe tbody tr th {\n",
       "        vertical-align: top;\n",
       "    }\n",
       "\n",
       "    .dataframe thead th {\n",
       "        text-align: right;\n",
       "    }\n",
       "</style>\n",
       "<table border=\"1\" class=\"dataframe\">\n",
       "  <thead>\n",
       "    <tr style=\"text-align: right;\">\n",
       "      <th></th>\n",
       "      <th>Company</th>\n",
       "      <th>X</th>\n",
       "    </tr>\n",
       "  </thead>\n",
       "  <tbody>\n",
       "    <tr>\n",
       "      <th>0</th>\n",
       "      <td>Allied Signal</td>\n",
       "      <td>24.23</td>\n",
       "    </tr>\n",
       "    <tr>\n",
       "      <th>1</th>\n",
       "      <td>Bankers trust</td>\n",
       "      <td>25.53</td>\n",
       "    </tr>\n",
       "    <tr>\n",
       "      <th>2</th>\n",
       "      <td>General Mills</td>\n",
       "      <td>25.41</td>\n",
       "    </tr>\n",
       "    <tr>\n",
       "      <th>3</th>\n",
       "      <td>ITT Industries</td>\n",
       "      <td>24.14</td>\n",
       "    </tr>\n",
       "    <tr>\n",
       "      <th>4</th>\n",
       "      <td>J.P. Morgan &amp; Co</td>\n",
       "      <td>29.62</td>\n",
       "    </tr>\n",
       "    <tr>\n",
       "      <th>5</th>\n",
       "      <td>Lehman Brothers</td>\n",
       "      <td>28.25</td>\n",
       "    </tr>\n",
       "    <tr>\n",
       "      <th>6</th>\n",
       "      <td>Marriott</td>\n",
       "      <td>25.81</td>\n",
       "    </tr>\n",
       "    <tr>\n",
       "      <th>7</th>\n",
       "      <td>MCI</td>\n",
       "      <td>24.39</td>\n",
       "    </tr>\n",
       "    <tr>\n",
       "      <th>8</th>\n",
       "      <td>Merrill Lynch</td>\n",
       "      <td>40.26</td>\n",
       "    </tr>\n",
       "    <tr>\n",
       "      <th>9</th>\n",
       "      <td>Microsoft</td>\n",
       "      <td>32.95</td>\n",
       "    </tr>\n",
       "    <tr>\n",
       "      <th>10</th>\n",
       "      <td>Morgan Stanley</td>\n",
       "      <td>91.36</td>\n",
       "    </tr>\n",
       "    <tr>\n",
       "      <th>11</th>\n",
       "      <td>Sun Microsystems</td>\n",
       "      <td>25.99</td>\n",
       "    </tr>\n",
       "    <tr>\n",
       "      <th>12</th>\n",
       "      <td>Travelers</td>\n",
       "      <td>39.42</td>\n",
       "    </tr>\n",
       "    <tr>\n",
       "      <th>13</th>\n",
       "      <td>US Airways</td>\n",
       "      <td>26.71</td>\n",
       "    </tr>\n",
       "    <tr>\n",
       "      <th>14</th>\n",
       "      <td>Warner-Lambert</td>\n",
       "      <td>35.00</td>\n",
       "    </tr>\n",
       "  </tbody>\n",
       "</table>\n",
       "</div>"
      ],
      "text/plain": [
       "             Company      X\n",
       "0      Allied Signal  24.23\n",
       "1      Bankers trust  25.53\n",
       "2      General Mills  25.41\n",
       "3     ITT Industries  24.14\n",
       "4   J.P. Morgan & Co  29.62\n",
       "5    Lehman Brothers  28.25\n",
       "6           Marriott  25.81\n",
       "7                MCI  24.39\n",
       "8      Merrill Lynch  40.26\n",
       "9          Microsoft  32.95\n",
       "10    Morgan Stanley  91.36\n",
       "11  Sun Microsystems  25.99\n",
       "12         Travelers  39.42\n",
       "13        US Airways  26.71\n",
       "14    Warner-Lambert  35.00"
      ]
     },
     "execution_count": 2,
     "metadata": {},
     "output_type": "execute_result"
    }
   ],
   "source": [
    "# Creating the data\n",
    "data = {\n",
    "    'Company': ['Allied Signal', 'Bankers trust', 'General Mills', 'ITT Industries', 'J.P. Morgan & Co', 'Lehman Brothers',\n",
    "               'Marriott', 'MCI', 'Merrill Lynch', 'Microsoft', 'Morgan Stanley', 'Sun Microsystems', 'Travelers',\n",
    "               'US Airways', 'Warner-Lambert'],\n",
    "    'X': [24.23, 25.53, 25.41, 24.14, 29.62, 28.25, 25.81, 24.39, 40.26, 32.95, 91.36, 25.99, 39.42, 26.71, 35.00]\n",
    "}\n",
    "\n",
    "# Converting into dataframe\n",
    "df = pd.DataFrame(data)\n",
    "df"
   ]
  },
  {
   "cell_type": "code",
   "execution_count": 3,
   "id": "78180ece",
   "metadata": {},
   "outputs": [
    {
     "data": {
      "image/png": "[encoded data removed]",
      "text/plain": [
       "<Figure size 864x432 with 1 Axes>"
      ]
     },
     "metadata": {
      "needs_background": "light"
     },
     "output_type": "display_data"
    }
   ],
   "source": [
    "# Plotting the data\n",
    "plt.figure(figsize = (12, 6))\n",
    "plt.plot(df['Company'], df['X'])\n",
    "plt.xlabel('Company Name')\n",
    "plt.xticks(rotation=90)\n",
    "plt.ylabel('Measure X in %')\n",
    "plt.show()"
   ]
  },
  {
   "cell_type": "code",
   "execution_count": 4,
   "id": "df9c89ad",
   "metadata": {},
   "outputs": [
    {
     "name": "stdout",
     "output_type": "stream",
     "text": [
      "Mean (μ) =  33.27133333333333\n",
      "Standard deviation (σ) =  16.370812590976932\n",
      "Variance (σ^2) =  268.00350488888887\n"
     ]
    }
   ],
   "source": [
    "# Finding Mean, Standar deviation and Variance of Measure X\n",
    "mean = np.mean(df['X'])\n",
    "std = np.std(df['X'])\n",
    "var = np.var(df['X'])\n",
    "print('Mean (\\u03BC) = ', mean)\n",
    "print('Standard deviation (\\u03C3) = ', std)\n",
    "print('Variance (\\u03C3^2) = ', var)"
   ]
  },
  {
   "cell_type": "code",
   "execution_count": 5,
   "id": "a3488729",
   "metadata": {},
   "outputs": [
    {
     "data": {
      "text/plain": [
       "array([False, False, False, False, False, False, False, False, False,\n",
       "       False, False, False, False, False, False])"
      ]
     },
     "execution_count": 5,
     "metadata": {},
     "output_type": "execute_result"
    }
   ],
   "source": [
    "# Finding outliers\n",
    "threshold = 3    # setting theshold to detect outliers\n",
    "\n",
    "# calculate z-score\n",
    "import scipy.stats as stats\n",
    "from scipy.stats import norm\n",
    "\n",
    "z = stats.norm.cdf(df['X'], loc = mean, scale = std)\n",
    "\n",
    "out = np.abs(z > threshold)\n",
    "out"
   ]
  },
  {
   "cell_type": "markdown",
   "id": "30593af4",
   "metadata": {},
   "source": [
    "No outliers present in the data."
   ]
  },
  {
   "cell_type": "markdown",
   "id": "9cdca954",
   "metadata": {},
   "source": [
    "## Question 5 (iii) and (iv)"
   ]
  },
  {
   "cell_type": "code",
   "execution_count": 6,
   "id": "ae81cd2e",
   "metadata": {},
   "outputs": [
    {
     "data": {
      "text/html": [
       "<div>\n",
       "<style scoped>\n",
       "    .dataframe tbody tr th:only-of-type {\n",
       "        vertical-align: middle;\n",
       "    }\n",
       "\n",
       "    .dataframe tbody tr th {\n",
       "        vertical-align: top;\n",
       "    }\n",
       "\n",
       "    .dataframe thead th {\n",
       "        text-align: right;\n",
       "    }\n",
       "</style>\n",
       "<table border=\"1\" class=\"dataframe\">\n",
       "  <thead>\n",
       "    <tr style=\"text-align: right;\">\n",
       "      <th></th>\n",
       "      <th>x</th>\n",
       "      <th>P(x)</th>\n",
       "    </tr>\n",
       "  </thead>\n",
       "  <tbody>\n",
       "    <tr>\n",
       "      <th>0</th>\n",
       "      <td>-2000</td>\n",
       "      <td>0.1</td>\n",
       "    </tr>\n",
       "    <tr>\n",
       "      <th>1</th>\n",
       "      <td>-1000</td>\n",
       "      <td>0.1</td>\n",
       "    </tr>\n",
       "    <tr>\n",
       "      <th>2</th>\n",
       "      <td>0</td>\n",
       "      <td>0.2</td>\n",
       "    </tr>\n",
       "    <tr>\n",
       "      <th>3</th>\n",
       "      <td>1000</td>\n",
       "      <td>0.2</td>\n",
       "    </tr>\n",
       "    <tr>\n",
       "      <th>4</th>\n",
       "      <td>2000</td>\n",
       "      <td>0.3</td>\n",
       "    </tr>\n",
       "    <tr>\n",
       "      <th>5</th>\n",
       "      <td>3000</td>\n",
       "      <td>0.1</td>\n",
       "    </tr>\n",
       "  </tbody>\n",
       "</table>\n",
       "</div>"
      ],
      "text/plain": [
       "      x  P(x)\n",
       "0 -2000   0.1\n",
       "1 -1000   0.1\n",
       "2     0   0.2\n",
       "3  1000   0.2\n",
       "4  2000   0.3\n",
       "5  3000   0.1"
      ]
     },
     "execution_count": 6,
     "metadata": {},
     "output_type": "execute_result"
    }
   ],
   "source": [
    "prob = {\n",
    "    'x': [-2000, -1000, 0, 1000, 2000, 3000],\n",
    "    'P(x)': [0.1, 0.1, 0.2, 0.2, 0.3, 0.1]\n",
    "}\n",
    "\n",
    "Prob = pd.DataFrame(prob)\n",
    "Prob"
   ]
  },
  {
   "cell_type": "code",
   "execution_count": 7,
   "id": "9183e0ec",
   "metadata": {},
   "outputs": [
    {
     "name": "stdout",
     "output_type": "stream",
     "text": [
      "Ans (iii). Long term average earning =  800.0\n",
      "Ans (iv). Measure of risk involved = $ 2160000.0\n"
     ]
    }
   ],
   "source": [
    "m = np.sum(Prob['x'] * Prob['P(x)'])\n",
    "print('Ans (iii). Long term average earning = ', m)\n",
    "\n",
    "v = np.sum((Prob['x'] - m)**2 * Prob['P(x)'])\n",
    "print('Ans (iv). Measure of risk involved = $',v )"
   ]
  },
  {
   "cell_type": "markdown",
   "id": "b1c2d201",
   "metadata": {},
   "source": [
    "# Set 2: Normal Distribution, Functions of Random Variables"
   ]
  },
  {
   "cell_type": "markdown",
   "id": "88bc7976",
   "metadata": {},
   "source": [
    "## Question 1"
   ]
  },
  {
   "cell_type": "markdown",
   "id": "d67c2edc",
   "metadata": {},
   "source": [
    "The time required for servicing transmissions is normally distributed with mu = 45 minutes and sigma = 8 minutes. The service manager plans to have work begin on the transmission of a customer’s car 10 minutes after the car is dropped off and the customer is told that the car will be ready within 1 hour from drop-off. What is the probability that the service manager cannot meet his commitment? "
   ]
  },
  {
   "cell_type": "code",
   "execution_count": 8,
   "id": "c67746f6",
   "metadata": {},
   "outputs": [
    {
     "name": "stdout",
     "output_type": "stream",
     "text": [
      "Probability that commitment will be met =  0.7340144709512995\n"
     ]
    }
   ],
   "source": [
    "# According to the question\n",
    "mean = 45\n",
    "std = 8\n",
    "\n",
    "# X = 10 + Y that is, Time to start working after drop-off + Service time\n",
    "\n",
    "# To find P(X > 60), that is the time where manager cannot make commitment\n",
    "# P(X > 60) =  P(10 + Y > 60) = P(Y > 50)\n",
    "\n",
    "Y = 50      # Sample data\n",
    "\n",
    "# Calculate z-score\n",
    "z = stats.norm.cdf(50, loc=mean, scale=std)\n",
    "print('Probability that commitment will be met = ', z)"
   ]
  },
  {
   "cell_type": "code",
   "execution_count": 9,
   "id": "4374a654",
   "metadata": {},
   "outputs": [
    {
     "name": "stdout",
     "output_type": "stream",
     "text": [
      "ANS. Probability that commitment wont be met =  0.26598552904870054\n"
     ]
    }
   ],
   "source": [
    "print('ANS. Probability that commitment wont be met = ', 1-z)"
   ]
  },
  {
   "cell_type": "markdown",
   "id": "7e66f0ef",
   "metadata": {},
   "source": [
    "## Question 2"
   ]
  },
  {
   "cell_type": "markdown",
   "id": "0f257265",
   "metadata": {},
   "source": [
    "The current age (in years) of 400 clerical employees at an insurance claims processing center is normally distributed with mean  = 38 and Standard deviation  =6. For each statement below, please specify True/False. If false, briefly explain why.\n",
    "\n",
    "A.\tMore employees at the processing center are older than 44 than between 38 and 44.\n",
    "\n",
    "B.\tA training program for employees under the age of 30 at the center would be expected to attract about 36 employees.\n"
   ]
  },
  {
   "cell_type": "code",
   "execution_count": 10,
   "id": "7cb9a0f5",
   "metadata": {},
   "outputs": [
    {
     "name": "stdout",
     "output_type": "stream",
     "text": [
      "1.0\n"
     ]
    }
   ],
   "source": [
    "# Part A\n",
    "\n",
    "m = 38     # mean\n",
    "s = 6      # std dev\n",
    "\n",
    "# For employees older than 44\n",
    "z_44 = (44 - m)/s\n",
    "print(z_44)"
   ]
  },
  {
   "cell_type": "markdown",
   "id": "9971ed6c",
   "metadata": {},
   "source": [
    "Using standard normal table, for z > 1 : P = 0.1587"
   ]
  },
  {
   "cell_type": "code",
   "execution_count": 11,
   "id": "13e762a0",
   "metadata": {},
   "outputs": [
    {
     "data": {
      "text/plain": [
       "0.0"
      ]
     },
     "execution_count": 11,
     "metadata": {},
     "output_type": "execute_result"
    }
   ],
   "source": [
    "# For employees between 38 and 44\n",
    "z_38 = (38 - m)/s\n",
    "z_38"
   ]
  },
  {
   "cell_type": "markdown",
   "id": "b736444f",
   "metadata": {},
   "source": [
    "Probabilities of z < 1 = 0.8413 (P (X < 44)) and for z > 0 = 0.5 (P(X > 38)) through standard normal z table"
   ]
  },
  {
   "cell_type": "markdown",
   "id": "41c40b3a",
   "metadata": {},
   "source": [
    "So, P (38 < X < 44) = 0.8413 - 0.5 = 0.3414\n",
    "Therefore, statement A is FALSE as the probability of employees aging between 38 and 44 is more. "
   ]
  },
  {
   "cell_type": "code",
   "execution_count": 12,
   "id": "94774d4b",
   "metadata": {},
   "outputs": [
    {
     "data": {
      "text/plain": [
       "-1.3333333333333333"
      ]
     },
     "execution_count": 12,
     "metadata": {},
     "output_type": "execute_result"
    }
   ],
   "source": [
    "# Part B\n",
    "\n",
    "# z score of employees under age 30\n",
    "z_30 = (30 - m)/s\n",
    "z_30"
   ]
  },
  {
   "cell_type": "markdown",
   "id": "c11e579f",
   "metadata": {},
   "source": [
    "Probability at z < -1.33 is 0.0918 through standard z table"
   ]
  },
  {
   "cell_type": "code",
   "execution_count": 13,
   "id": "24236dec",
   "metadata": {},
   "outputs": [
    {
     "name": "stdout",
     "output_type": "stream",
     "text": [
      "Expected employees under age 30 =  36.7 (about 36)\n"
     ]
    }
   ],
   "source": [
    "# Expected no. of employees\n",
    "E = 0.0918 * 400\n",
    "print('Expected employees under age 30 = ', round(E, 1) ,'(about 36)')"
   ]
  },
  {
   "cell_type": "markdown",
   "id": "843e1db9",
   "metadata": {},
   "source": [
    "Statement B is TRUE."
   ]
  },
  {
   "cell_type": "markdown",
   "id": "71758074",
   "metadata": {},
   "source": [
    "## Question 4"
   ]
  },
  {
   "cell_type": "markdown",
   "id": "cb6f5a83",
   "metadata": {},
   "source": [
    "Let X ~ N(100, 20^2). Find two values, a and b, symmetric about the mean, such that the probability of the random variable taking a value between them is 0.99. "
   ]
  },
  {
   "cell_type": "code",
   "execution_count": 14,
   "id": "543200aa",
   "metadata": {},
   "outputs": [],
   "source": [
    "m = 100    # mean\n",
    "s = 20     # standard deviation\n"
   ]
  },
  {
   "cell_type": "markdown",
   "id": "70091b20",
   "metadata": {},
   "source": [
    "From the above details,we have to excluded area of .005 in each of the left and right tails. Hence, we want to find the 0.5th and the 99.5th percentiles Z score values"
   ]
  },
  {
   "cell_type": "code",
   "execution_count": 15,
   "id": "e1e626d6",
   "metadata": {},
   "outputs": [
    {
     "name": "stdout",
     "output_type": "stream",
     "text": [
      "a =  48.483413929021985\n",
      "b =  151.516586070978\n"
     ]
    }
   ],
   "source": [
    "#  score at 0.5th percentile\n",
    "z_5 = stats.norm.ppf(0.005)\n",
    "\n",
    "# score at 99.5th percentile\n",
    "z_99 = stats.norm.ppf(0.995)\n",
    "\n",
    "def sample(z):\n",
    "    x = (20 * z) + 100    # from z score formula\n",
    "    return x\n",
    "\n",
    "a = sample(z_5)\n",
    "print('a = ', a)\n",
    "\n",
    "b = sample(z_99)\n",
    "print('b = ', b)"
   ]
  },
  {
   "cell_type": "markdown",
   "id": "f4d3b18a",
   "metadata": {},
   "source": [
    "## Question 5"
   ]
  },
  {
   "cell_type": "markdown",
   "id": "c48910d8",
   "metadata": {},
   "source": [
    "Consider a company that has two different divisions. The annual profits from the two divisions are independent and have distributions Profit1 ~ N(5, 3^2) and Profit2 ~ N(7, 4^2) respectively. Both the profits are in  $$Million. Answer the following questions about the total profit of the company in Rupees. Assume that $1 = Rs. 45\n",
    "\n",
    "A.\tSpecify a Rupee range (centered on the mean) such that it contains 95% probability for the annual profit of the company.\n",
    "\n",
    "B.\tSpecify the 5th percentile of profit (in Rupees) for the company\n",
    "\n",
    "C.\tWhich of the two divisions has a larger probability of making a loss in a given year?\n"
   ]
  },
  {
   "cell_type": "code",
   "execution_count": 16,
   "id": "89cba120",
   "metadata": {},
   "outputs": [
    {
     "name": "stdout",
     "output_type": "stream",
     "text": [
      "Mean Profit = Rs 540 Million\n"
     ]
    }
   ],
   "source": [
    "# Mean profits from two different divisions of a company = Mean1 + Mean2\n",
    "Mean = 5+7\n",
    "print('Mean Profit = Rs', Mean*45,'Million')"
   ]
  },
  {
   "cell_type": "code",
   "execution_count": 17,
   "id": "c69c38c9",
   "metadata": {},
   "outputs": [
    {
     "name": "stdout",
     "output_type": "stream",
     "text": [
      "Standard Deviation = Rs 225.0 Million\n"
     ]
    }
   ],
   "source": [
    "# Variance of profits from two different divisions of a company = std^2 = 1std^2 + 2std^2\n",
    "SD = np.sqrt((9)+(16))\n",
    "print('Standard Deviation = Rs', SD*45, 'Million')"
   ]
  },
  {
   "cell_type": "code",
   "execution_count": 18,
   "id": "0a75cf68",
   "metadata": {},
   "outputs": [
    {
     "name": "stdout",
     "output_type": "stream",
     "text": [
      "Range is Rs (99.00810347848784, 980.9918965215122)  Millions\n"
     ]
    }
   ],
   "source": [
    "# PART A\n",
    "\n",
    "print('Range is Rs',(stats.norm.interval(0.95,540,225)),' Millions')"
   ]
  },
  {
   "cell_type": "code",
   "execution_count": 19,
   "id": "7c2fe196",
   "metadata": {},
   "outputs": [
    {
     "name": "stdout",
     "output_type": "stream",
     "text": [
      "5th percentile of profit (in Million Rupees) is 170.0\n"
     ]
    }
   ],
   "source": [
    "# PART B\n",
    "\n",
    "# To compute 5th Percentile, we use the formula X=μ + Zσ; wherein from z table, 5 percentile = -1.645\n",
    "X= 540+(-1.645)*(225)\n",
    "print('5th percentile of profit (in Million Rupees) is',np.round(X,))"
   ]
  },
  {
   "cell_type": "code",
   "execution_count": 20,
   "id": "661cd1e3",
   "metadata": {},
   "outputs": [
    {
     "name": "stdout",
     "output_type": "stream",
     "text": [
      "0.0477903522728147\n",
      "0.040059156863817086\n"
     ]
    }
   ],
   "source": [
    "# PART C\n",
    "\n",
    "# Probability of Division 1 making a loss P(X<0)\n",
    "p = stats.norm.cdf(0,5,3)\n",
    "print(p)\n",
    "# Probability of Division 2 making a loss P(X<0)\n",
    "pp = stats.norm.cdf(0,7,4)\n",
    "print(pp)"
   ]
  },
  {
   "cell_type": "markdown",
   "id": "c1f0aa14",
   "metadata": {},
   "source": [
    "Division 1 makes larger probability of loss"
   ]
  },
  {
   "cell_type": "markdown",
   "id": "667033aa",
   "metadata": {},
   "source": [
    "# Set 3 : Confidence Intervals"
   ]
  },
  {
   "cell_type": "markdown",
   "id": "e42ddf1e",
   "metadata": {},
   "source": [
    "## Question 5 (PART I)"
   ]
  },
  {
   "cell_type": "code",
   "execution_count": 21,
   "id": "ce3c8768",
   "metadata": {},
   "outputs": [
    {
     "data": {
      "text/plain": [
       "1.959963984540054"
      ]
     },
     "execution_count": 21,
     "metadata": {},
     "output_type": "execute_result"
    }
   ],
   "source": [
    "# According to the question\n",
    "n = 2000       # sample size\n",
    "x = 0.046      #  sample mean = 4.6%\n",
    "\n",
    "# If Mozilla has less than 5% share in market, then\n",
    "# Find the proportion of web users using Mozilla at 95% confidence interval\n",
    "\n",
    "# Calculate z-score at 95% C.I.\n",
    "alpha = 0.05   # CI = 1 - alpha where, CI = 0.95\n",
    "\n",
    "z = stats.norm.ppf(1 - alpha/2)\n",
    "z"
   ]
  },
  {
   "cell_type": "code",
   "execution_count": 22,
   "id": "a6c8752b",
   "metadata": {},
   "outputs": [
    {
     "data": {
      "text/plain": [
       "(0.03681908014174666, 0.05518091985825334)"
      ]
     },
     "execution_count": 22,
     "metadata": {},
     "output_type": "execute_result"
    }
   ],
   "source": [
    "# The range of proportions of people using Mozilla at 95% confidence interval\n",
    "M = (x - z * math.sqrt(x * (1-0.046)/n) , x + z * math.sqrt(x * (1-0.046)/n))    # Std Dev = (1 - 0.046)^2 \n",
    "M"
   ]
  },
  {
   "cell_type": "markdown",
   "id": "110330e2",
   "metadata": {},
   "source": [
    "Range of proportions is between 3.68% - 5.51%. We can conclude that Mozilla has less than 5% share in market"
   ]
  },
  {
   "cell_type": "markdown",
   "id": "a6034551",
   "metadata": {},
   "source": [
    "## Question 8"
   ]
  },
  {
   "cell_type": "code",
   "execution_count": 23,
   "id": "7f23f51c",
   "metadata": {},
   "outputs": [
    {
     "data": {
      "text/plain": [
       "1.959963984540054"
      ]
     },
     "execution_count": 23,
     "metadata": {},
     "output_type": "execute_result"
    }
   ],
   "source": [
    "# According to the question\n",
    "m = 0.04     # margin of error\n",
    "a = b = 0.5  # assumed standard deviation\n",
    "\n",
    "# At 95% confidence interval\n",
    "alpha = 0.05   # CI = 1 - alpha where, CI = 0.95\n",
    "\n",
    "z = stats.norm.ppf(1 - alpha/2)\n",
    "z"
   ]
  },
  {
   "cell_type": "code",
   "execution_count": 24,
   "id": "ae6c0bcb",
   "metadata": {},
   "outputs": [
    {
     "name": "stdout",
     "output_type": "stream",
     "text": [
      "Randomly selected employees to be contacted to gurantee marin of error not more than 4% =  600\n"
     ]
    }
   ],
   "source": [
    "# From margin of error formula, ME = z * sqrt(a * b/n)\n",
    "\n",
    "n = ((z ** 2) * a * b)/(m)**2    \n",
    "print('Randomly selected employees to be contacted to gurantee marin of error not more than 4% = ', round(n))"
   ]
  },
  {
   "cell_type": "markdown",
   "id": "e148a608",
   "metadata": {},
   "source": [
    "Ans. Option A. 600"
   ]
  },
  {
   "cell_type": "markdown",
   "id": "82b54380",
   "metadata": {},
   "source": [
    "## Question 9"
   ]
  },
  {
   "cell_type": "code",
   "execution_count": 25,
   "id": "19fa7c3c",
   "metadata": {},
   "outputs": [
    {
     "data": {
      "text/plain": [
       "2.3263478740408408"
      ]
     },
     "execution_count": 25,
     "metadata": {},
     "output_type": "execute_result"
    }
   ],
   "source": [
    "# At 98% confidence interval\n",
    "alpha = 0.02\n",
    "\n",
    "z = stats.norm.ppf(1 - alpha/2)\n",
    "z"
   ]
  },
  {
   "cell_type": "code",
   "execution_count": 26,
   "id": "b03ce2dd",
   "metadata": {},
   "outputs": [
    {
     "name": "stdout",
     "output_type": "stream",
     "text": [
      "Randomly selected employees to be contacted to gurantee marin of error not more than 4% =  846\n"
     ]
    }
   ],
   "source": [
    "# From margin of error formula, ME = z * sqrt(a * b/n)\n",
    "\n",
    "n = ((z ** 2) * a * b)/(m)**2    \n",
    "print('Randomly selected employees to be contacted to gurantee marin of error not more than 4% = ', round(n))"
   ]
  },
  {
   "cell_type": "markdown",
   "id": "3926d44b",
   "metadata": {},
   "source": [
    "Ans. Option C. 848 (Approx.)"
   ]
  },
  {
   "cell_type": "markdown",
   "id": "5448e2a7",
   "metadata": {},
   "source": [
    "# Set 4 : Sampling Distributions and Central Limit Theorem (CBA Pratice problem set 2)"
   ]
  },
  {
   "cell_type": "markdown",
   "id": "fed6cbe4",
   "metadata": {},
   "source": [
    "## Question 3"
   ]
  },
  {
   "cell_type": "code",
   "execution_count": 29,
   "id": "4d094e0a",
   "metadata": {},
   "outputs": [
    {
     "name": "stdout",
     "output_type": "stream",
     "text": [
      "Probability that in any given week there will be investigation =  21.4 %\n"
     ]
    }
   ],
   "source": [
    "# According to the question\n",
    "x = 50      # population mean\n",
    "std = 40    # sample standard deviation\n",
    "n = 100     # sample size\n",
    "df = n - 1  # degree of freedom\n",
    "\n",
    "# To find probability that no investigation will take place if $45 < mean transaction < $55, and investigation will take place otherwise\n",
    "# We will perform t-test as population std is unknown\n",
    "\n",
    "t_45 = (45 - x)/(std/math.sqrt(n))\n",
    "\n",
    "t_55 = (55 - x)/(std/math.sqrt(n))\n",
    "\n",
    "# Calculate respective probabilities of no investigation\n",
    "\n",
    "p_45 = stats.t.cdf(t_45, df = df)\n",
    "\n",
    "p_55 = stats.t.cdf(t_55, df = df)\n",
    "\n",
    "# Resultant probability\n",
    "p = p_55 - p_45\n",
    "\n",
    "#So, probability % that investigation will happen\n",
    "P = (1 - p) * 100\n",
    "\n",
    "print('Probability that in any given week there will be investigation = ', np.round(P,1), '%')"
   ]
  },
  {
   "cell_type": "markdown",
   "id": "3ab3522f",
   "metadata": {},
   "source": [
    "Ans. Option D : 21.1 %"
   ]
  },
  {
   "cell_type": "markdown",
   "id": "d817afdb",
   "metadata": {},
   "source": [
    "## Question 4"
   ]
  },
  {
   "cell_type": "code",
   "execution_count": null,
   "id": "95c851c0",
   "metadata": {},
   "outputs": [],
   "source": [
    "# From the previous question\n",
    "\n",
    "x = 50      # population mean\n",
    "std = 40    # sample standard deviation\n",
    "\n",
    "x_bar = 45  # sample mean\n",
    "\n",
    "# Calculate t-stats\n",
    "t = stats.t.ppf(1 - 0.05/2, df)    # Since probability of invesigation = 5% or 0.05\n",
    "\n",
    "# From t-stats formula\n",
    "# t = (x_bar - x)/(std/sqrt(n))\n"
   ]
  },
  {
   "cell_type": "markdown",
   "id": "5be4498b",
   "metadata": {},
   "source": [
    "Here degree of freedom is unknown to us, so we can't calculate t-stats and hence cannot find the minimum no. of transaction as per question."
   ]
  },
  {
   "cell_type": "markdown",
   "id": "889e4f76",
   "metadata": {},
   "source": [
    "Ans. E. Not enough information"
   ]
  }
 ],
 "metadata": {
  "kernelspec": {
   "display_name": "Python 3 (ipykernel)",
   "language": "python",
   "name": "python3"
  },
  "language_info": {
   "codemirror_mode": {
    "name": "ipython",
    "version": 3
   },
   "file_extension": ".py",
   "mimetype": "text/x-python",
   "name": "python",
   "nbconvert_exporter": "python",
   "pygments_lexer": "ipython3",
   "version": "3.9.12"
  }
 },
 "nbformat": 4,
 "nbformat_minor": 5
}
