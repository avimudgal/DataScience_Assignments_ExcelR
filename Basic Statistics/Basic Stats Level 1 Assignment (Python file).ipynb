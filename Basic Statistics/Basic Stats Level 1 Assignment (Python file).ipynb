{
 "cells": [
  {
   "cell_type": "markdown",
   "id": "11bcb15d",
   "metadata": {},
   "source": [
    "# Basic Statistics Assignment 1"
   ]
  },
  {
   "cell_type": "code",
   "execution_count": 53,
   "id": "34c73a29",
   "metadata": {},
   "outputs": [],
   "source": [
    "# import libraries\n",
    "import numpy as np\n",
    "import pandas as pd\n",
    "import scipy.stats as stats\n",
    "import math\n",
    "from scipy.stats import norm\n",
    "import matplotlib.pyplot as plt"
   ]
  },
  {
   "cell_type": "markdown",
   "id": "0d88c737",
   "metadata": {},
   "source": [
    "## Question 7"
   ]
  },
  {
   "cell_type": "code",
   "execution_count": 27,
   "id": "2f7b7238",
   "metadata": {},
   "outputs": [
    {
     "data": {
      "text/html": [
       "<div>\n",
       "<style scoped>\n",
       "    .dataframe tbody tr th:only-of-type {\n",
       "        vertical-align: middle;\n",
       "    }\n",
       "\n",
       "    .dataframe tbody tr th {\n",
       "        vertical-align: top;\n",
       "    }\n",
       "\n",
       "    .dataframe thead th {\n",
       "        text-align: right;\n",
       "    }\n",
       "</style>\n",
       "<table border=\"1\" class=\"dataframe\">\n",
       "  <thead>\n",
       "    <tr style=\"text-align: right;\">\n",
       "      <th></th>\n",
       "      <th>Unnamed: 0</th>\n",
       "      <th>Points</th>\n",
       "      <th>Score</th>\n",
       "      <th>Weigh</th>\n",
       "    </tr>\n",
       "  </thead>\n",
       "  <tbody>\n",
       "    <tr>\n",
       "      <th>0</th>\n",
       "      <td>Mazda RX4</td>\n",
       "      <td>3.90</td>\n",
       "      <td>2.620</td>\n",
       "      <td>16.46</td>\n",
       "    </tr>\n",
       "    <tr>\n",
       "      <th>1</th>\n",
       "      <td>Mazda RX4 Wag</td>\n",
       "      <td>3.90</td>\n",
       "      <td>2.875</td>\n",
       "      <td>17.02</td>\n",
       "    </tr>\n",
       "    <tr>\n",
       "      <th>2</th>\n",
       "      <td>Datsun 710</td>\n",
       "      <td>3.85</td>\n",
       "      <td>2.320</td>\n",
       "      <td>18.61</td>\n",
       "    </tr>\n",
       "    <tr>\n",
       "      <th>3</th>\n",
       "      <td>Hornet 4 Drive</td>\n",
       "      <td>3.08</td>\n",
       "      <td>3.215</td>\n",
       "      <td>19.44</td>\n",
       "    </tr>\n",
       "    <tr>\n",
       "      <th>4</th>\n",
       "      <td>Hornet Sportabout</td>\n",
       "      <td>3.15</td>\n",
       "      <td>3.440</td>\n",
       "      <td>17.02</td>\n",
       "    </tr>\n",
       "  </tbody>\n",
       "</table>\n",
       "</div>"
      ],
      "text/plain": [
       "          Unnamed: 0  Points  Score  Weigh\n",
       "0          Mazda RX4    3.90  2.620  16.46\n",
       "1      Mazda RX4 Wag    3.90  2.875  17.02\n",
       "2         Datsun 710    3.85  2.320  18.61\n",
       "3     Hornet 4 Drive    3.08  3.215  19.44\n",
       "4  Hornet Sportabout    3.15  3.440  17.02"
      ]
     },
     "execution_count": 27,
     "metadata": {},
     "output_type": "execute_result"
    }
   ],
   "source": [
    "df = pd.read_csv(\"Q7.csv\")\n",
    "df.head()"
   ]
  },
  {
   "cell_type": "code",
   "execution_count": 21,
   "id": "989ecfee",
   "metadata": {},
   "outputs": [],
   "source": [
    "# For Points\n",
    "m1 = np.mean(df['Points'])\n",
    "med1 = np.median(df['Points'])\n",
    "mod1 = stats.mode(df['Points'])\n",
    "v1 = np.var(df['Points'])\n",
    "std1 = np.std(df['Points'])\n",
    "ran1 = np.ptp(df['Points'])\n",
    "\n",
    "# For Score\n",
    "m2 = np.mean(df['Score'])\n",
    "med2 = np.median(df['Score'])\n",
    "mod2 = stats.mode(df['Score'])\n",
    "v2 = np.var(df['Score'])\n",
    "std2 = np.std(df['Score'])\n",
    "ran2 = np.ptp(df['Score'])\n",
    "\n",
    "# For Weigh\n",
    "m3 = np.mean(df['Weigh'])\n",
    "med3 = np.median(df['Weigh'])\n",
    "mod3 = stats.mode(df['Weigh'])\n",
    "v3 = np.var(df['Weigh'])\n",
    "std3 = np.std(df['Weigh'])\n",
    "ran3 = np.ptp(df['Weigh'])"
   ]
  },
  {
   "cell_type": "code",
   "execution_count": 26,
   "id": "60d610dd",
   "metadata": {},
   "outputs": [
    {
     "name": "stdout",
     "output_type": "stream",
     "text": [
      "Statistics for Points Column: Mean =  3.5965625000000006 Median =  3.6950000000000003 Mode =  ModeResult(mode=array([3.07]), count=array([3])) Variance =  0.27694755859375003 Standard deviation =  0.5262580722361891 Range =  2.17\n",
      "\n",
      "Statistics for Score Column: Mean =  3.2172499999999995 Median =  3.325 Mode =  ModeResult(mode=array([3.44]), count=array([3])) Variance =  0.9274608750000002 Standard deviation =  0.9630477013107919 Range =  3.9110000000000005\n",
      "\n",
      "Statistics for Weigh Column: Mean =  17.848750000000003 Median =  17.71 Mode =  ModeResult(mode=array([17.02]), count=array([2])) Variance =  3.0933796874999997 Standard deviation =  1.758800638929836 Range =  8.399999999999999\n"
     ]
    }
   ],
   "source": [
    "print('Statistics for Points Column: Mean = ', m1, 'Median = ', med1, 'Mode = ', mod1, 'Variance = ', v1, 'Standard deviation = ', std1, 'Range = ', ran1)\n",
    "print()\n",
    "print('Statistics for Score Column: Mean = ', m2, 'Median = ', med2, 'Mode = ', mod2, 'Variance = ', v2, 'Standard deviation = ', std2, 'Range = ', ran2)\n",
    "print()\n",
    "print('Statistics for Weigh Column: Mean = ', m3, 'Median = ', med3, 'Mode = ', mod3, 'Variance = ', v3, 'Standard deviation = ', std3, 'Range = ', ran3)"
   ]
  },
  {
   "cell_type": "markdown",
   "id": "e1125121",
   "metadata": {},
   "source": [
    "## Question 9 (a)"
   ]
  },
  {
   "cell_type": "code",
   "execution_count": 5,
   "id": "79962b26",
   "metadata": {},
   "outputs": [
    {
     "data": {
      "text/html": [
       "<div>\n",
       "<style scoped>\n",
       "    .dataframe tbody tr th:only-of-type {\n",
       "        vertical-align: middle;\n",
       "    }\n",
       "\n",
       "    .dataframe tbody tr th {\n",
       "        vertical-align: top;\n",
       "    }\n",
       "\n",
       "    .dataframe thead th {\n",
       "        text-align: right;\n",
       "    }\n",
       "</style>\n",
       "<table border=\"1\" class=\"dataframe\">\n",
       "  <thead>\n",
       "    <tr style=\"text-align: right;\">\n",
       "      <th></th>\n",
       "      <th>Index</th>\n",
       "      <th>speed</th>\n",
       "      <th>dist</th>\n",
       "    </tr>\n",
       "  </thead>\n",
       "  <tbody>\n",
       "    <tr>\n",
       "      <th>0</th>\n",
       "      <td>1</td>\n",
       "      <td>4</td>\n",
       "      <td>2</td>\n",
       "    </tr>\n",
       "    <tr>\n",
       "      <th>1</th>\n",
       "      <td>2</td>\n",
       "      <td>4</td>\n",
       "      <td>10</td>\n",
       "    </tr>\n",
       "    <tr>\n",
       "      <th>2</th>\n",
       "      <td>3</td>\n",
       "      <td>7</td>\n",
       "      <td>4</td>\n",
       "    </tr>\n",
       "    <tr>\n",
       "      <th>3</th>\n",
       "      <td>4</td>\n",
       "      <td>7</td>\n",
       "      <td>22</td>\n",
       "    </tr>\n",
       "    <tr>\n",
       "      <th>4</th>\n",
       "      <td>5</td>\n",
       "      <td>8</td>\n",
       "      <td>16</td>\n",
       "    </tr>\n",
       "  </tbody>\n",
       "</table>\n",
       "</div>"
      ],
      "text/plain": [
       "   Index  speed  dist\n",
       "0      1      4     2\n",
       "1      2      4    10\n",
       "2      3      7     4\n",
       "3      4      7    22\n",
       "4      5      8    16"
      ]
     },
     "execution_count": 5,
     "metadata": {},
     "output_type": "execute_result"
    }
   ],
   "source": [
    "data = pd.read_csv('Q9_a.csv')\n",
    "data.head()"
   ]
  },
  {
   "cell_type": "code",
   "execution_count": 10,
   "id": "0baf8bf9",
   "metadata": {},
   "outputs": [
    {
     "name": "stdout",
     "output_type": "stream",
     "text": [
      "Skewness on data Cars =  0.0\n",
      "Skewness on data speed =  -0.11395477012828319\n",
      "Skewness on data distance =  0.7824835173114966\n"
     ]
    }
   ],
   "source": [
    "# To find skewness of the following data: cars, speed and distance\n",
    "cars = stats.skew(data['Index'], axis=0, bias=True)\n",
    "speed = stats.skew(data['speed'], axis=0, bias=True)\n",
    "dist = stats.skew(data['dist'], axis=0, bias=True)\n",
    "print('Skewness on data Cars = ', cars)\n",
    "print('Skewness on data speed = ', speed)\n",
    "print('Skewness on data distance = ', dist)"
   ]
  },
  {
   "cell_type": "code",
   "execution_count": 11,
   "id": "ef7e91dd",
   "metadata": {},
   "outputs": [
    {
     "name": "stdout",
     "output_type": "stream",
     "text": [
      "Kurtosis on data Cars =  -1.2009603841536614\n",
      "Kurtosis on data speed =  -0.5771474239437371\n",
      "Kurtosis on data distance =  0.24801865717051808\n"
     ]
    }
   ],
   "source": [
    "# To find kurtosis of the following data: cars, speed and distance\n",
    "cars1 = stats.kurtosis(data['Index'], axis=0, bias=True)\n",
    "speed1 = stats.kurtosis(data['speed'], axis=0, bias=True)\n",
    "dist1 = stats.kurtosis(data['dist'], axis=0, bias=True)\n",
    "print('Kurtosis on data Cars = ', cars1)\n",
    "print('Kurtosis on data speed = ', speed1)\n",
    "print('Kurtosis on data distance = ', dist1)"
   ]
  },
  {
   "cell_type": "markdown",
   "id": "a7fd14f3",
   "metadata": {},
   "source": [
    "## Question 9 (b)"
   ]
  },
  {
   "cell_type": "code",
   "execution_count": 12,
   "id": "b2fd3805",
   "metadata": {},
   "outputs": [
    {
     "data": {
      "text/html": [
       "<div>\n",
       "<style scoped>\n",
       "    .dataframe tbody tr th:only-of-type {\n",
       "        vertical-align: middle;\n",
       "    }\n",
       "\n",
       "    .dataframe tbody tr th {\n",
       "        vertical-align: top;\n",
       "    }\n",
       "\n",
       "    .dataframe thead th {\n",
       "        text-align: right;\n",
       "    }\n",
       "</style>\n",
       "<table border=\"1\" class=\"dataframe\">\n",
       "  <thead>\n",
       "    <tr style=\"text-align: right;\">\n",
       "      <th></th>\n",
       "      <th>Unnamed: 0</th>\n",
       "      <th>SP</th>\n",
       "      <th>WT</th>\n",
       "    </tr>\n",
       "  </thead>\n",
       "  <tbody>\n",
       "    <tr>\n",
       "      <th>0</th>\n",
       "      <td>1</td>\n",
       "      <td>104.185353</td>\n",
       "      <td>28.762059</td>\n",
       "    </tr>\n",
       "    <tr>\n",
       "      <th>1</th>\n",
       "      <td>2</td>\n",
       "      <td>105.461264</td>\n",
       "      <td>30.466833</td>\n",
       "    </tr>\n",
       "    <tr>\n",
       "      <th>2</th>\n",
       "      <td>3</td>\n",
       "      <td>105.461264</td>\n",
       "      <td>30.193597</td>\n",
       "    </tr>\n",
       "    <tr>\n",
       "      <th>3</th>\n",
       "      <td>4</td>\n",
       "      <td>113.461264</td>\n",
       "      <td>30.632114</td>\n",
       "    </tr>\n",
       "    <tr>\n",
       "      <th>4</th>\n",
       "      <td>5</td>\n",
       "      <td>104.461264</td>\n",
       "      <td>29.889149</td>\n",
       "    </tr>\n",
       "  </tbody>\n",
       "</table>\n",
       "</div>"
      ],
      "text/plain": [
       "   Unnamed: 0          SP         WT\n",
       "0           1  104.185353  28.762059\n",
       "1           2  105.461264  30.466833\n",
       "2           3  105.461264  30.193597\n",
       "3           4  113.461264  30.632114\n",
       "4           5  104.461264  29.889149"
      ]
     },
     "execution_count": 12,
     "metadata": {},
     "output_type": "execute_result"
    }
   ],
   "source": [
    "data1 = data = pd.read_csv('Q9_b.csv')\n",
    "data.head()"
   ]
  },
  {
   "cell_type": "code",
   "execution_count": 13,
   "id": "1f30201f",
   "metadata": {},
   "outputs": [
    {
     "name": "stdout",
     "output_type": "stream",
     "text": [
      "Skewness on data SP =  1.5814536794423764\n",
      "Skewness on data weight =  -0.6033099322115126\n"
     ]
    }
   ],
   "source": [
    "# To find skewness of the following data: SP and weight\n",
    "sp = stats.skew(data1['SP'], axis=0, bias=True)\n",
    "wt = stats.skew(data1['WT'], axis=0, bias=True)\n",
    "print('Skewness on data SP = ', sp)\n",
    "print('Skewness on data weight = ', wt)"
   ]
  },
  {
   "cell_type": "code",
   "execution_count": 14,
   "id": "6e067d5a",
   "metadata": {},
   "outputs": [
    {
     "name": "stdout",
     "output_type": "stream",
     "text": [
      "Kurtosis on data SP =  2.7235214865269244\n",
      "Kurtosis on data weight =  0.8194658792266849\n"
     ]
    }
   ],
   "source": [
    "# To find kurtosis of the following data: SP and weight\n",
    "sp1 = stats.kurtosis(data1['SP'], axis=0, bias=True)\n",
    "wt1 = stats.kurtosis(data1['WT'], axis=0, bias=True)\n",
    "print('Kurtosis on data SP = ', sp1)\n",
    "print('Kurtosis on data weight = ', wt1)"
   ]
  },
  {
   "cell_type": "markdown",
   "id": "16d4ab53",
   "metadata": {},
   "source": [
    "## Question 11"
   ]
  },
  {
   "cell_type": "markdown",
   "id": "decec4c3",
   "metadata": {},
   "source": [
    "Suppose we want to estimate the average weight of an adult male in Mexico. We draw a random sample of 2,000 men from a population of 3,000,000 men and weigh them. We find that the average person in our sample weighs 200 pounds, and the standard deviation of the sample is 30 pounds. Calculate 94%,98%,96% confidence interval?"
   ]
  },
  {
   "cell_type": "code",
   "execution_count": 16,
   "id": "a1cce462",
   "metadata": {},
   "outputs": [],
   "source": [
    "# According to the question\n",
    "n = 2000      # Sample size\n",
    "x = 200       # Sample mean\n",
    "std = 30      # Standard deviation"
   ]
  },
  {
   "cell_type": "code",
   "execution_count": 20,
   "id": "bf7e78e0",
   "metadata": {},
   "outputs": [
    {
     "name": "stdout",
     "output_type": "stream",
     "text": [
      "94% confidence interval =  (136.94288303450594, 263.05711696549406)\n"
     ]
    }
   ],
   "source": [
    "# to find 94% confidence interval \n",
    "z_94 = 94     # Confidence level\n",
    "\n",
    "CI_94 = (x - z_94 * std/math.sqrt(n), x + z_94 * std/math.sqrt(n))\n",
    "print('94% confidence interval = ', CI_94)"
   ]
  },
  {
   "cell_type": "code",
   "execution_count": 21,
   "id": "78b0357d",
   "metadata": {},
   "outputs": [
    {
     "name": "stdout",
     "output_type": "stream",
     "text": [
      "98% confidence interval =  (134.25960146150618, 265.7403985384938)\n"
     ]
    }
   ],
   "source": [
    "# to find 98% confidence interval \n",
    "z_98 = 98     # Confidence level\n",
    "\n",
    "CI_98 = (x - z_98 * std/math.sqrt(n), x + z_98 * std/math.sqrt(n))\n",
    "print('98% confidence interval = ', CI_98)"
   ]
  },
  {
   "cell_type": "code",
   "execution_count": 22,
   "id": "33b021c6",
   "metadata": {},
   "outputs": [
    {
     "name": "stdout",
     "output_type": "stream",
     "text": [
      "96% confidence interval =  (135.60124224800606, 264.3987577519939)\n"
     ]
    }
   ],
   "source": [
    "# to find 96% confidence interval \n",
    "z_96 = 96     # Confidence level\n",
    "\n",
    "CI_96 = (x - z_96 * std/math.sqrt(n), x + z_96 * std/math.sqrt(n))\n",
    "print('96% confidence interval = ', CI_96)"
   ]
  },
  {
   "cell_type": "markdown",
   "id": "565998b2",
   "metadata": {},
   "source": [
    "## Question 12"
   ]
  },
  {
   "cell_type": "markdown",
   "id": "6213172d",
   "metadata": {},
   "source": [
    "Below are the scores obtained by a student in tests \n",
    "34,36,36,38,38,39,39,40,40,41,41,41,41,42,42,45,49,56\n",
    "1)\tFind mean, median, variance, standard deviation.\n",
    "2)\tWhat can we say about the student marks? "
   ]
  },
  {
   "cell_type": "code",
   "execution_count": 23,
   "id": "4433008f",
   "metadata": {},
   "outputs": [
    {
     "name": "stdout",
     "output_type": "stream",
     "text": [
      "Mean =  41.0\n",
      "Median =  40.5\n",
      "Standard devition =  4.910306620885412\n"
     ]
    }
   ],
   "source": [
    "score = [34,36,36,38,38,39,39,40,40,41,41,41,41,42,42,45,49,56]\n",
    "\n",
    "mean = np.mean(score)\n",
    "median = np.median(score)\n",
    "std = np.std(score)\n",
    "print('Mean = ', mean)\n",
    "print('Median = ', median)\n",
    "print('Standard devition = ', std)"
   ]
  },
  {
   "cell_type": "markdown",
   "id": "a1e9904b",
   "metadata": {},
   "source": [
    "Comment: We can say about the student's marks that\n",
    "1. The average score of the students is 41.\n",
    "2. Half the students have scored below 40.5 and the rest half have score above 40.5\n",
    "3. Most of the students have scores in the range of 39 to 46"
   ]
  },
  {
   "cell_type": "markdown",
   "id": "f7435124",
   "metadata": {},
   "source": [
    "## Question 20"
   ]
  },
  {
   "cell_type": "code",
   "execution_count": 25,
   "id": "d2ce2c06",
   "metadata": {},
   "outputs": [
    {
     "data": {
      "text/html": [
       "<div>\n",
       "<style scoped>\n",
       "    .dataframe tbody tr th:only-of-type {\n",
       "        vertical-align: middle;\n",
       "    }\n",
       "\n",
       "    .dataframe tbody tr th {\n",
       "        vertical-align: top;\n",
       "    }\n",
       "\n",
       "    .dataframe thead th {\n",
       "        text-align: right;\n",
       "    }\n",
       "</style>\n",
       "<table border=\"1\" class=\"dataframe\">\n",
       "  <thead>\n",
       "    <tr style=\"text-align: right;\">\n",
       "      <th></th>\n",
       "      <th>HP</th>\n",
       "      <th>MPG</th>\n",
       "      <th>VOL</th>\n",
       "      <th>SP</th>\n",
       "      <th>WT</th>\n",
       "    </tr>\n",
       "  </thead>\n",
       "  <tbody>\n",
       "    <tr>\n",
       "      <th>0</th>\n",
       "      <td>49</td>\n",
       "      <td>53.700681</td>\n",
       "      <td>89</td>\n",
       "      <td>104.185353</td>\n",
       "      <td>28.762059</td>\n",
       "    </tr>\n",
       "    <tr>\n",
       "      <th>1</th>\n",
       "      <td>55</td>\n",
       "      <td>50.013401</td>\n",
       "      <td>92</td>\n",
       "      <td>105.461264</td>\n",
       "      <td>30.466833</td>\n",
       "    </tr>\n",
       "    <tr>\n",
       "      <th>2</th>\n",
       "      <td>55</td>\n",
       "      <td>50.013401</td>\n",
       "      <td>92</td>\n",
       "      <td>105.461264</td>\n",
       "      <td>30.193597</td>\n",
       "    </tr>\n",
       "    <tr>\n",
       "      <th>3</th>\n",
       "      <td>70</td>\n",
       "      <td>45.696322</td>\n",
       "      <td>92</td>\n",
       "      <td>113.461264</td>\n",
       "      <td>30.632114</td>\n",
       "    </tr>\n",
       "    <tr>\n",
       "      <th>4</th>\n",
       "      <td>53</td>\n",
       "      <td>50.504232</td>\n",
       "      <td>92</td>\n",
       "      <td>104.461264</td>\n",
       "      <td>29.889149</td>\n",
       "    </tr>\n",
       "    <tr>\n",
       "      <th>...</th>\n",
       "      <td>...</td>\n",
       "      <td>...</td>\n",
       "      <td>...</td>\n",
       "      <td>...</td>\n",
       "      <td>...</td>\n",
       "    </tr>\n",
       "    <tr>\n",
       "      <th>76</th>\n",
       "      <td>322</td>\n",
       "      <td>36.900000</td>\n",
       "      <td>50</td>\n",
       "      <td>169.598513</td>\n",
       "      <td>16.132947</td>\n",
       "    </tr>\n",
       "    <tr>\n",
       "      <th>77</th>\n",
       "      <td>238</td>\n",
       "      <td>19.197888</td>\n",
       "      <td>115</td>\n",
       "      <td>150.576579</td>\n",
       "      <td>37.923113</td>\n",
       "    </tr>\n",
       "    <tr>\n",
       "      <th>78</th>\n",
       "      <td>263</td>\n",
       "      <td>34.000000</td>\n",
       "      <td>50</td>\n",
       "      <td>151.598513</td>\n",
       "      <td>15.769625</td>\n",
       "    </tr>\n",
       "    <tr>\n",
       "      <th>79</th>\n",
       "      <td>295</td>\n",
       "      <td>19.833733</td>\n",
       "      <td>119</td>\n",
       "      <td>167.944460</td>\n",
       "      <td>39.423099</td>\n",
       "    </tr>\n",
       "    <tr>\n",
       "      <th>80</th>\n",
       "      <td>236</td>\n",
       "      <td>12.101263</td>\n",
       "      <td>107</td>\n",
       "      <td>139.840817</td>\n",
       "      <td>34.948615</td>\n",
       "    </tr>\n",
       "  </tbody>\n",
       "</table>\n",
       "<p>81 rows × 5 columns</p>\n",
       "</div>"
      ],
      "text/plain": [
       "     HP        MPG  VOL          SP         WT\n",
       "0    49  53.700681   89  104.185353  28.762059\n",
       "1    55  50.013401   92  105.461264  30.466833\n",
       "2    55  50.013401   92  105.461264  30.193597\n",
       "3    70  45.696322   92  113.461264  30.632114\n",
       "4    53  50.504232   92  104.461264  29.889149\n",
       "..  ...        ...  ...         ...        ...\n",
       "76  322  36.900000   50  169.598513  16.132947\n",
       "77  238  19.197888  115  150.576579  37.923113\n",
       "78  263  34.000000   50  151.598513  15.769625\n",
       "79  295  19.833733  119  167.944460  39.423099\n",
       "80  236  12.101263  107  139.840817  34.948615\n",
       "\n",
       "[81 rows x 5 columns]"
      ]
     },
     "execution_count": 25,
     "metadata": {},
     "output_type": "execute_result"
    }
   ],
   "source": [
    "# Loading Cars dataset\n",
    "car = pd.read_csv('Cars.csv')\n",
    "car"
   ]
  },
  {
   "cell_type": "code",
   "execution_count": 49,
   "id": "80422640",
   "metadata": {},
   "outputs": [
    {
     "name": "stdout",
     "output_type": "stream",
     "text": [
      "P(MPG > 38) =  0.34669238536888103\n"
     ]
    }
   ],
   "source": [
    "# To find probability of the car having MPG > 38\n",
    "\n",
    "P = 1 - norm.cdf(38, np.mean(car['MPG']), np.std(car['MPG']))\n",
    "print('P(MPG > 38) = ', P)"
   ]
  },
  {
   "cell_type": "code",
   "execution_count": 50,
   "id": "fe0ab142",
   "metadata": {},
   "outputs": [
    {
     "name": "stdout",
     "output_type": "stream",
     "text": [
      "P(MPG < 40) =  0.7306083416219199\n"
     ]
    }
   ],
   "source": [
    "# To find probability of the car having MPG < 40\n",
    "\n",
    "P = norm.cdf(40, np.mean(car['MPG']), np.std(car['MPG']))\n",
    "print('P(MPG < 40) = ', P)"
   ]
  },
  {
   "cell_type": "code",
   "execution_count": 51,
   "id": "35c5b2fb",
   "metadata": {},
   "outputs": [
    {
     "name": "stdout",
     "output_type": "stream",
     "text": [
      "P(20 < MPG < 50) =  0.9009686820346051\n"
     ]
    }
   ],
   "source": [
    "# To find probability of the car having 20 < MPG < 50\n",
    "\n",
    "P = norm.cdf(50, np.mean(car['MPG']), np.std(car['MPG'])) - norm.cdf(20, np.mean(car['MPG']), np.std(car['MPG']))\n",
    "print('P(20 < MPG < 50) = ', P)"
   ]
  },
  {
   "cell_type": "markdown",
   "id": "4c88a2e6",
   "metadata": {},
   "source": [
    "## Question 21 (a)"
   ]
  },
  {
   "cell_type": "code",
   "execution_count": 64,
   "id": "842951a8",
   "metadata": {},
   "outputs": [
    {
     "data": {
      "image/png": "[encoded data removed]",
      "text/plain": [
       "<Figure size 432x288 with 1 Axes>"
      ]
     },
     "metadata": {
      "needs_background": "light"
     },
     "output_type": "display_data"
    }
   ],
   "source": [
    "# To check if MPG dataset follows normal distribution\n",
    "plt.hist(car['MPG'])\n",
    "plt.xlabel('MPG')\n",
    "plt.ylabel('Frequency')\n",
    "plt.show()"
   ]
  },
  {
   "cell_type": "markdown",
   "id": "f299142f",
   "metadata": {},
   "source": [
    "The histogram plot is not symmetric, hence it does not follow normal distribution."
   ]
  },
  {
   "cell_type": "markdown",
   "id": "166a6d5b",
   "metadata": {},
   "source": [
    "## Question 21 (b)"
   ]
  },
  {
   "cell_type": "code",
   "execution_count": 56,
   "id": "b4cd44c9",
   "metadata": {},
   "outputs": [
    {
     "data": {
      "text/html": [
       "<div>\n",
       "<style scoped>\n",
       "    .dataframe tbody tr th:only-of-type {\n",
       "        vertical-align: middle;\n",
       "    }\n",
       "\n",
       "    .dataframe tbody tr th {\n",
       "        vertical-align: top;\n",
       "    }\n",
       "\n",
       "    .dataframe thead th {\n",
       "        text-align: right;\n",
       "    }\n",
       "</style>\n",
       "<table border=\"1\" class=\"dataframe\">\n",
       "  <thead>\n",
       "    <tr style=\"text-align: right;\">\n",
       "      <th></th>\n",
       "      <th>Waist</th>\n",
       "      <th>AT</th>\n",
       "    </tr>\n",
       "  </thead>\n",
       "  <tbody>\n",
       "    <tr>\n",
       "      <th>0</th>\n",
       "      <td>74.75</td>\n",
       "      <td>25.72</td>\n",
       "    </tr>\n",
       "    <tr>\n",
       "      <th>1</th>\n",
       "      <td>72.60</td>\n",
       "      <td>25.89</td>\n",
       "    </tr>\n",
       "    <tr>\n",
       "      <th>2</th>\n",
       "      <td>81.80</td>\n",
       "      <td>42.60</td>\n",
       "    </tr>\n",
       "    <tr>\n",
       "      <th>3</th>\n",
       "      <td>83.95</td>\n",
       "      <td>42.80</td>\n",
       "    </tr>\n",
       "    <tr>\n",
       "      <th>4</th>\n",
       "      <td>74.65</td>\n",
       "      <td>29.84</td>\n",
       "    </tr>\n",
       "    <tr>\n",
       "      <th>...</th>\n",
       "      <td>...</td>\n",
       "      <td>...</td>\n",
       "    </tr>\n",
       "    <tr>\n",
       "      <th>104</th>\n",
       "      <td>100.10</td>\n",
       "      <td>124.00</td>\n",
       "    </tr>\n",
       "    <tr>\n",
       "      <th>105</th>\n",
       "      <td>93.30</td>\n",
       "      <td>62.20</td>\n",
       "    </tr>\n",
       "    <tr>\n",
       "      <th>106</th>\n",
       "      <td>101.80</td>\n",
       "      <td>133.00</td>\n",
       "    </tr>\n",
       "    <tr>\n",
       "      <th>107</th>\n",
       "      <td>107.90</td>\n",
       "      <td>208.00</td>\n",
       "    </tr>\n",
       "    <tr>\n",
       "      <th>108</th>\n",
       "      <td>108.50</td>\n",
       "      <td>208.00</td>\n",
       "    </tr>\n",
       "  </tbody>\n",
       "</table>\n",
       "<p>109 rows × 2 columns</p>\n",
       "</div>"
      ],
      "text/plain": [
       "      Waist      AT\n",
       "0     74.75   25.72\n",
       "1     72.60   25.89\n",
       "2     81.80   42.60\n",
       "3     83.95   42.80\n",
       "4     74.65   29.84\n",
       "..      ...     ...\n",
       "104  100.10  124.00\n",
       "105   93.30   62.20\n",
       "106  101.80  133.00\n",
       "107  107.90  208.00\n",
       "108  108.50  208.00\n",
       "\n",
       "[109 rows x 2 columns]"
      ]
     },
     "execution_count": 56,
     "metadata": {},
     "output_type": "execute_result"
    }
   ],
   "source": [
    "# Loading the data\n",
    "wc = pd.read_csv('wc-at.csv')\n",
    "wc"
   ]
  },
  {
   "cell_type": "code",
   "execution_count": 60,
   "id": "1846f567",
   "metadata": {},
   "outputs": [
    {
     "data": {
      "image/png": "[encoded data removed]",
      "text/plain": [
       "<Figure size 432x288 with 1 Axes>"
      ]
     },
     "metadata": {
      "needs_background": "light"
     },
     "output_type": "display_data"
    },
    {
     "data": {
      "image/png": "[encoded data removed]",
      "text/plain": [
       "<Figure size 432x288 with 1 Axes>"
      ]
     },
     "metadata": {
      "needs_background": "light"
     },
     "output_type": "display_data"
    }
   ],
   "source": [
    "# To check if Adipose Tissue (AT) and Waist Circumference (Waist) follow normal distribution\n",
    "plt.hist(wc['AT'])\n",
    "plt.xlabel('Adipose Tissue')\n",
    "plt.ylabel('Frequency')\n",
    "plt.show()\n",
    "\n",
    "plt.hist(wc['Waist'], color='green')\n",
    "plt.xlabel('Waist Circumference')\n",
    "plt.ylabel('Frequency')\n",
    "plt.show()"
   ]
  },
  {
   "cell_type": "markdown",
   "id": "b7f8b1df",
   "metadata": {},
   "source": [
    "None of the two datasets follow normal distribution since the histograms are not symmetric fom both ends."
   ]
  },
  {
   "cell_type": "markdown",
   "id": "25772151",
   "metadata": {},
   "source": [
    "## Question 22"
   ]
  },
  {
   "cell_type": "markdown",
   "id": "1aba453a",
   "metadata": {},
   "source": [
    "Calculate the Z scores of 90% confidence interval, 94% confidence interval, 60% confidence interval."
   ]
  },
  {
   "cell_type": "code",
   "execution_count": 68,
   "id": "2bcd80bf",
   "metadata": {},
   "outputs": [
    {
     "name": "stdout",
     "output_type": "stream",
     "text": [
      "z-score of 90% confidence interval =  1.6448536269514722\n"
     ]
    }
   ],
   "source": [
    "# At 90% confidence interval\n",
    "CI = 0.9\n",
    "a = 1 - CI   #alpha\n",
    "\n",
    "# Calculate z-score\n",
    "z = stats.norm.ppf(1 - a/2)\n",
    "print('z-score of 90% confidence interval = ', z)"
   ]
  },
  {
   "cell_type": "code",
   "execution_count": 69,
   "id": "eecd6bb3",
   "metadata": {},
   "outputs": [
    {
     "name": "stdout",
     "output_type": "stream",
     "text": [
      "z-score of 94% confidence interval =  1.8807936081512509\n"
     ]
    }
   ],
   "source": [
    "# At 94% confidence interval\n",
    "CI = 0.94\n",
    "a = 1 - CI   #alpha\n",
    "\n",
    "# Calculate z-score\n",
    "z = stats.norm.ppf(1 - a/2)\n",
    "print('z-score of 94% confidence interval = ', z)"
   ]
  },
  {
   "cell_type": "code",
   "execution_count": 70,
   "id": "8606acc7",
   "metadata": {},
   "outputs": [
    {
     "name": "stdout",
     "output_type": "stream",
     "text": [
      "z-score of 60% confidence interval =  0.8416212335729143\n"
     ]
    }
   ],
   "source": [
    "# At 60% confidence interval\n",
    "CI = 0.6\n",
    "a = 1 - CI   #alpha\n",
    "\n",
    "# Calculate z-score\n",
    "z = stats.norm.ppf(1 - a/2)\n",
    "print('z-score of 60% confidence interval = ', z)"
   ]
  },
  {
   "cell_type": "markdown",
   "id": "135d4b47",
   "metadata": {},
   "source": [
    "## Question 23"
   ]
  },
  {
   "cell_type": "markdown",
   "id": "126440b1",
   "metadata": {},
   "source": [
    "Calculate the t scores of 95% confidence interval, 96% confidence interval, 99% confidence interval for sample size of 25."
   ]
  },
  {
   "cell_type": "code",
   "execution_count": 75,
   "id": "a2fb7378",
   "metadata": {},
   "outputs": [
    {
     "name": "stdout",
     "output_type": "stream",
     "text": [
      "t-score of 95% confidence interval =  2.0638985616280205\n"
     ]
    }
   ],
   "source": [
    "n = 25        #sample size\n",
    "df = n - 1    #degree of freedom\n",
    "\n",
    "# At 95% confidence interval\n",
    "CI = 0.95\n",
    "a = 1 - CI    #alpha\n",
    "\n",
    "# Calculate t-score\n",
    "t = stats.t.ppf(1 - a/2, df)\n",
    "print('t-score of 95% confidence interval = ', t)"
   ]
  },
  {
   "cell_type": "code",
   "execution_count": 73,
   "id": "f8bf4241",
   "metadata": {},
   "outputs": [
    {
     "name": "stdout",
     "output_type": "stream",
     "text": [
      "t-score of 96% confidence interval =  2.1715446760080677\n"
     ]
    }
   ],
   "source": [
    "# At 96% confidence interval\n",
    "CI = 0.96\n",
    "a = 1 - CI    #alpha\n",
    "\n",
    "# Calculate t-score\n",
    "t = stats.t.ppf(1 - a/2, df)\n",
    "print('t-score of 96% confidence interval = ', t)"
   ]
  },
  {
   "cell_type": "code",
   "execution_count": 74,
   "id": "9fe7102e",
   "metadata": {},
   "outputs": [
    {
     "name": "stdout",
     "output_type": "stream",
     "text": [
      "t-score of 99% confidence interval =  2.796939504772804\n"
     ]
    }
   ],
   "source": [
    "# At 99% confidence interval\n",
    "CI = 0.99\n",
    "a = 1 - CI    #alpha\n",
    "\n",
    "# Calculate t-score\n",
    "t = stats.t.ppf(1 - a/2, df)\n",
    "print('t-score of 99% confidence interval = ', t)"
   ]
  },
  {
   "cell_type": "markdown",
   "id": "2d399215",
   "metadata": {},
   "source": [
    "## Question 24"
   ]
  },
  {
   "cell_type": "markdown",
   "id": "4b1e70ad",
   "metadata": {},
   "source": [
    "A Government company claims that an average light bulb lasts 270 days. A researcher randomly selects 18 bulbs for testing. The sampled bulbs last an average of 260 days, with a standard deviation of 90 days. If the CEO's claim were true, what is the probability that 18 randomly selected bulbs would have an average life of no more than 260 days."
   ]
  },
  {
   "cell_type": "code",
   "execution_count": 76,
   "id": "370aba94",
   "metadata": {},
   "outputs": [
    {
     "data": {
      "text/plain": [
       "-0.4714045207910317"
      ]
     },
     "execution_count": 76,
     "metadata": {},
     "output_type": "execute_result"
    }
   ],
   "source": [
    "# According to the question\n",
    "u = 270       # Population mean\n",
    "n = 18        # Sample size\n",
    "x = 260       # Sample mean\n",
    "std = 90      # Standard deviation\n",
    "\n",
    "t = (x - u)/(std/math.sqrt(n))     # t-stats or t-score"
   ]
  },
  {
   "cell_type": "code",
   "execution_count": 78,
   "id": "9e28999e",
   "metadata": {},
   "outputs": [
    {
     "name": "stdout",
     "output_type": "stream",
     "text": [
      "The selected sample would have average life of no more than 260 days =  0.32167253567098364\n"
     ]
    }
   ],
   "source": [
    "df = n - 1    # degree of freedom\n",
    "P = stats.t.cdf(t, df)\n",
    "print('The selected sample would have average life of no more than 260 days = ', P)"
   ]
  }
 ],
 "metadata": {
  "kernelspec": {
   "display_name": "Python 3 (ipykernel)",
   "language": "python",
   "name": "python3"
  },
  "language_info": {
   "codemirror_mode": {
    "name": "ipython",
    "version": 3
   },
   "file_extension": ".py",
   "mimetype": "text/x-python",
   "name": "python",
   "nbconvert_exporter": "python",
   "pygments_lexer": "ipython3",
   "version": "3.9.12"
  }
 },
 "nbformat": 4,
 "nbformat_minor": 5
}
