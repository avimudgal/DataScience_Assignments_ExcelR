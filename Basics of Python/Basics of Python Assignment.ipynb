{
 "cells": [
  {
   "cell_type": "markdown",
   "id": "b5dde96d",
   "metadata": {},
   "source": [
    "## Exercise 1: Prime Numbers"
   ]
  },
  {
   "cell_type": "markdown",
   "id": "82496e9b",
   "metadata": {},
   "source": [
    "Write a Python program that checks whether a given number is prime or not. A prime number is a natural number greater than 1 that has no positive divisors other than 1 and itself."
   ]
  },
  {
   "cell_type": "code",
   "execution_count": 2,
   "id": "b70f8f0f",
   "metadata": {},
   "outputs": [],
   "source": [
    "# Creating function that checks for prime number\n",
    "def check_prime(x):\n",
    "    if x <= 1:\n",
    "        return False\n",
    "    for i in range(2, int(x ** 0.5) + 1):\n",
    "        if x % i == 0:\n",
    "            return False\n",
    "    return True"
   ]
  },
  {
   "cell_type": "code",
   "execution_count": 8,
   "id": "e9bd4ba1",
   "metadata": {},
   "outputs": [
    {
     "name": "stdout",
     "output_type": "stream",
     "text": [
      "Enter a number: 2\n",
      "2 is a prime number.\n"
     ]
    }
   ],
   "source": [
    "# Taking input from user\n",
    "num = int(input(\"Enter a number: \"))\n",
    "\n",
    "if check_prime(num):\n",
    "    print(f\"{num} is a prime number.\")\n",
    "else:\n",
    "    print(f\"{num} is not a prime number.\")"
   ]
  },
  {
   "cell_type": "markdown",
   "id": "7ed1c147",
   "metadata": {},
   "source": [
    "## Exercise 2: Product of Random Numbers"
   ]
  },
  {
   "cell_type": "markdown",
   "id": "7b37ce0d",
   "metadata": {},
   "source": [
    "Develop a Python program that generates two random numbers and asks the user to enter the product of these numbers. The program should then check if the user's answer is correct and display an appropriate message."
   ]
  },
  {
   "cell_type": "code",
   "execution_count": 35,
   "id": "a9a80551",
   "metadata": {},
   "outputs": [
    {
     "name": "stdout",
     "output_type": "stream",
     "text": [
      "The two random numbers are =  6 and 13\n",
      "Enter the product of the two random numbers: 78\n",
      "The product of the two numbers you entered is correct!\n"
     ]
    }
   ],
   "source": [
    "# Generating 2 random numbers : between 0 and 100\n",
    "import random\n",
    "\n",
    "r_1 = random.randint(0, 100)\n",
    "r_2 = random.randint(0, 100)\n",
    "print('The two random numbers are = ', r_1, 'and', r_2)\n",
    "\n",
    "p = int(input(\"Enter the product of the two random numbers: \"))\n",
    "\n",
    "if p == r_1 * r_2:\n",
    "    print(\"The product of the two numbers you entered is correct!\")\n",
    "else:\n",
    "    print(\"The product of the two numbers you entered is incorrect.\")"
   ]
  },
  {
   "cell_type": "markdown",
   "id": "41910ae4",
   "metadata": {},
   "source": [
    "## Exercise 3: Squares of Even/Odd Numbers"
   ]
  },
  {
   "cell_type": "markdown",
   "id": "924a011b",
   "metadata": {},
   "source": [
    "Create a Python script that prints the squares of all even or odd numbers within the range of 100 to 200. Choose either even or odd numbers and document your choice in the code."
   ]
  },
  {
   "cell_type": "code",
   "execution_count": 1,
   "id": "537a4649",
   "metadata": {},
   "outputs": [],
   "source": [
    "def sq_even():                    # Define a function that would print squares of all even numbers between 100 to 200\n",
    "    for i in range(100, 200):\n",
    "        if i % 2 == 0:\n",
    "            print(i ** 2)\n",
    "\n",
    "def sq_odd():                     # Define a function that would print squares of all odd numbers between 100 to 200\n",
    "    for i in range(100, 200):\n",
    "        if i % 2 != 0:\n",
    "            print(i ** 2)"
   ]
  },
  {
   "cell_type": "code",
   "execution_count": null,
   "id": "7e1b095c",
   "metadata": {},
   "outputs": [],
   "source": [
    "x = str(input(\"CHOOSE even or odd: \"))\n",
    "if x == 'even':\n",
    "    print(sq_even())\n",
    "elif x == 'odd':\n",
    "    print(sq_odd())\n",
    "else:\n",
    "    print(\"Invalid\")"
   ]
  },
  {
   "cell_type": "markdown",
   "id": "199e1889",
   "metadata": {},
   "source": [
    "## Exercise 4: Word counter"
   ]
  },
  {
   "cell_type": "markdown",
   "id": "3d04934e",
   "metadata": {},
   "source": [
    "Write a program to count the number of words in a given text.\n",
    "example:\n",
    "\n",
    "\n",
    "input_text = \"This is a sample text. This text will be used to demonstrate the word counter.\"\n",
    "\n",
    "Expected output:\n",
    "\n",
    "'This': 2 \n",
    "'is': 1\n",
    "'a': 1\n",
    "'sample': 1\n",
    "'text.': 1"
   ]
  },
  {
   "cell_type": "code",
   "execution_count": 2,
   "id": "36c2f200",
   "metadata": {},
   "outputs": [
    {
     "name": "stdout",
     "output_type": "stream",
     "text": [
      "Enter your sentence: This is an example. I hope it is working.\n",
      "'this': 1\n",
      "'is': 2\n",
      "'an': 1\n",
      "'example': 1\n",
      "'i': 1\n",
      "'hope': 1\n",
      "'it': 1\n",
      "'working': 1\n"
     ]
    }
   ],
   "source": [
    "def count_words(text):\n",
    "    # Split the text into words\n",
    "    words = text.split()\n",
    "    \n",
    "    # Create a dictionary to store word counts\n",
    "    word_count = {}\n",
    "    \n",
    "    # Iterate over each word and update the count\n",
    "    for word in words:\n",
    "        # Remove punctuation from the word\n",
    "        word = word.strip('.,')\n",
    "        \n",
    "        # Convert the word to lowercase\n",
    "        word = word.lower()\n",
    "        \n",
    "        # Update the count for the word\n",
    "        if word in word_count:\n",
    "            word_count[word] += 1\n",
    "        else:\n",
    "            word_count[word] = 1\n",
    "    \n",
    "    # Return the word count dictionary\n",
    "    return word_count\n",
    "\n",
    "# Example text\n",
    "input_text = str(input(\"Enter your sentence: \"))\n",
    "\n",
    "# Count the words in the text\n",
    "word_counts = count_words(input_text)\n",
    "\n",
    "# Print the word counts\n",
    "for word, count in word_counts.items():\n",
    "    print(f\"'{word}': {count}\")"
   ]
  },
  {
   "cell_type": "markdown",
   "id": "9f007cb9",
   "metadata": {},
   "source": [
    "## Exercise 5: Check for Palindrome"
   ]
  },
  {
   "cell_type": "markdown",
   "id": "23bf0ff5",
   "metadata": {},
   "source": [
    "Write a Python function called is_palindrome that takes a string as input and returns True if the string is a palindrome, and False otherwise. A palindrome is a word, phrase, number, or other sequence of characters that reads the same forward and backward, ignoring spaces, punctuation, and capitalization.\n",
    "Example:\n",
    "    \n",
    "Input: \"racecar\"\n",
    "Expected Output: True\n"
   ]
  },
  {
   "cell_type": "code",
   "execution_count": 3,
   "id": "8f0a4595",
   "metadata": {},
   "outputs": [],
   "source": [
    "# Creating a palindrome function\n",
    "def is_palindrome(s):\n",
    "    s = ''.join(char.lower() for char in s if char.isalnum())   # Remove spaces, punctuation, and convert to lowercase\n",
    "    return s == s[::-1]       # Check if the string is equal to its reverse"
   ]
  },
  {
   "cell_type": "code",
   "execution_count": 5,
   "id": "f83eeff3",
   "metadata": {},
   "outputs": [
    {
     "name": "stdout",
     "output_type": "stream",
     "text": [
      "Enter a word/phrase: hello\n",
      "False\n"
     ]
    }
   ],
   "source": [
    "word = str(input(\"Enter a word/phrase: \"))\n",
    "print(is_palindrome(word))"
   ]
  }
 ],
 "metadata": {
  "kernelspec": {
   "display_name": "Python 3 (ipykernel)",
   "language": "python",
   "name": "python3"
  },
  "language_info": {
   "codemirror_mode": {
    "name": "ipython",
    "version": 3
   },
   "file_extension": ".py",
   "mimetype": "text/x-python",
   "name": "python",
   "nbconvert_exporter": "python",
   "pygments_lexer": "ipython3",
   "version": "3.9.12"
  }
 },
 "nbformat": 4,
 "nbformat_minor": 5
}
